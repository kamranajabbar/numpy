{
 "metadata": {
  "language_info": {
   "codemirror_mode": {
    "name": "ipython",
    "version": 3
   },
   "file_extension": ".py",
   "mimetype": "text/x-python",
   "name": "python",
   "nbconvert_exporter": "python",
   "pygments_lexer": "ipython3",
   "version": "3.8.5-final"
  },
  "orig_nbformat": 2,
  "kernelspec": {
   "name": "python3",
   "display_name": "Python 3.8.5 64-bit (conda)",
   "metadata": {
    "interpreter": {
     "hash": "0dcd4ec83837b8554bc20226fba95fdb97a112f322b21fe213505dfa74ddbf76"
    }
   }
  }
 },
 "nbformat": 4,
 "nbformat_minor": 2,
 "cells": [
  {
   "cell_type": "code",
   "execution_count": 81,
   "metadata": {},
   "outputs": [],
   "source": [
    "# We can\n",
    "# Add, Multiply, Saprate two arrays\n",
    "# Compaire two arrays"
   ]
  },
  {
   "cell_type": "code",
   "execution_count": 82,
   "metadata": {},
   "outputs": [],
   "source": [
    "import numpy as np"
   ]
  },
  {
   "cell_type": "code",
   "execution_count": 83,
   "metadata": {},
   "outputs": [],
   "source": [
    "a = np.random.rand((10))\n",
    "b = np.random.rand((10))"
   ]
  },
  {
   "cell_type": "code",
   "execution_count": 84,
   "metadata": {},
   "outputs": [
    {
     "output_type": "execute_result",
     "data": {
      "text/plain": [
       "array([0.39643436, 0.96818599, 0.58131119, 0.52423047, 0.03671587,\n",
       "       0.21542049, 0.88863213, 0.27951708, 0.8680408 , 0.5713813 ])"
      ]
     },
     "metadata": {},
     "execution_count": 84
    }
   ],
   "source": [
    "a"
   ]
  },
  {
   "cell_type": "code",
   "execution_count": 85,
   "metadata": {},
   "outputs": [
    {
     "output_type": "execute_result",
     "data": {
      "text/plain": [
       "array([0.62463955, 0.05803307, 0.36174888, 0.38856384, 0.98415481,\n",
       "       0.89446016, 0.10379823, 0.78036743, 0.60685183, 0.38452581])"
      ]
     },
     "metadata": {},
     "execution_count": 85
    }
   ],
   "source": [
    "b"
   ]
  },
  {
   "cell_type": "code",
   "execution_count": 86,
   "metadata": {},
   "outputs": [
    {
     "output_type": "execute_result",
     "data": {
      "text/plain": [
       "array([1.02107391, 1.02621906, 0.94306007, 0.91279431, 1.02087068,\n",
       "       1.10988065, 0.99243036, 1.05988451, 1.47489263, 0.95590711])"
      ]
     },
     "metadata": {},
     "execution_count": 86
    }
   ],
   "source": [
    "a+b         #Add array b in array a"
   ]
  },
  {
   "cell_type": "code",
   "execution_count": 87,
   "metadata": {},
   "outputs": [
    {
     "output_type": "execute_result",
     "data": {
      "text/plain": [
       "array([-0.22820519,  0.91015292,  0.21956231,  0.13566663, -0.94743894,\n",
       "       -0.67903968,  0.7848339 , -0.50085035,  0.26118897,  0.18685549])"
      ]
     },
     "metadata": {},
     "execution_count": 87
    }
   ],
   "source": [
    "a-b         #Seprate array b from array a"
   ]
  },
  {
   "cell_type": "code",
   "execution_count": 88,
   "metadata": {},
   "outputs": [
    {
     "output_type": "execute_result",
     "data": {
      "text/plain": [
       "array([0.24762858, 0.0561868 , 0.21028867, 0.203697  , 0.0361341 ,\n",
       "       0.19268504, 0.09223844, 0.21812603, 0.52677215, 0.21971086])"
      ]
     },
     "metadata": {},
     "execution_count": 88
    }
   ],
   "source": [
    "a*b         #Multply array a by array b"
   ]
  },
  {
   "cell_type": "code",
   "execution_count": 89,
   "metadata": {},
   "outputs": [
    {
     "output_type": "execute_result",
     "data": {
      "text/plain": [
       "array([0.79286872, 1.93637198, 1.16262238, 1.04846094, 0.07343174,\n",
       "       0.43084097, 1.77726425, 0.55903416, 1.7360816 , 1.14276259])"
      ]
     },
     "metadata": {},
     "execution_count": 89
    }
   ],
   "source": [
    "2*a         #Multiply array a by 2"
   ]
  },
  {
   "cell_type": "code",
   "execution_count": 90,
   "metadata": {},
   "outputs": [
    {
     "output_type": "execute_result",
     "data": {
      "text/plain": [
       "array([ 2.5224857 ,  1.0328594 ,  1.720249  ,  1.90755795, 27.23618033,\n",
       "        4.64208405,  1.12532506,  3.57759889,  1.15201958,  1.75014479])"
      ]
     },
     "metadata": {},
     "execution_count": 90
    }
   ],
   "source": [
    "1/a         #Inverse array a"
   ]
  },
  {
   "cell_type": "code",
   "execution_count": 91,
   "metadata": {},
   "outputs": [
    {
     "output_type": "execute_result",
     "data": {
      "text/plain": [
       "array([0.39643436, 0.96818599, 0.58131119, 0.52423047, 0.03671587,\n",
       "       0.21542049, 0.88863213, 0.27951708, 0.8680408 , 0.5713813 ])"
      ]
     },
     "metadata": {},
     "execution_count": 91
    }
   ],
   "source": [
    "a           #Print array a"
   ]
  },
  {
   "cell_type": "code",
   "execution_count": 92,
   "metadata": {},
   "outputs": [
    {
     "output_type": "execute_result",
     "data": {
      "text/plain": [
       "array([False,  True,  True,  True, False, False,  True, False,  True,\n",
       "        True])"
      ]
     },
     "metadata": {},
     "execution_count": 92
    }
   ],
   "source": [
    "a>0.5       #Get bool value for those element who is greter then 0.5"
   ]
  },
  {
   "cell_type": "code",
   "execution_count": 93,
   "metadata": {},
   "outputs": [
    {
     "output_type": "execute_result",
     "data": {
      "text/plain": [
       "array([0.96818599, 0.58131119, 0.52423047, 0.88863213, 0.8680408 ,\n",
       "       0.5713813 ])"
      ]
     },
     "metadata": {},
     "execution_count": 93
    }
   ],
   "source": [
    "a[a>0.5]    #Get all values who is greter then 0.5 "
   ]
  }
 ]
}