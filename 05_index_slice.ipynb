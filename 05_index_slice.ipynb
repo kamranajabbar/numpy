{
 "metadata": {
  "language_info": {
   "codemirror_mode": {
    "name": "ipython",
    "version": 3
   },
   "file_extension": ".py",
   "mimetype": "text/x-python",
   "name": "python",
   "nbconvert_exporter": "python",
   "pygments_lexer": "ipython3",
   "version": "3.8.5-final"
  },
  "orig_nbformat": 2,
  "kernelspec": {
   "name": "python3",
   "display_name": "Python 3.8.5 64-bit (conda)",
   "metadata": {
    "interpreter": {
     "hash": "0dcd4ec83837b8554bc20226fba95fdb97a112f322b21fe213505dfa74ddbf76"
    }
   }
  }
 },
 "nbformat": 4,
 "nbformat_minor": 2,
 "cells": [
  {
   "cell_type": "code",
   "execution_count": 4,
   "metadata": {},
   "outputs": [],
   "source": [
    "import numpy as np"
   ]
  },
  {
   "cell_type": "code",
   "execution_count": 5,
   "metadata": {},
   "outputs": [],
   "source": [
    "x = np.array([1,7,9,8,5])       #Create array with 5 elements"
   ]
  },
  {
   "cell_type": "code",
   "execution_count": 6,
   "metadata": {},
   "outputs": [
    {
     "output_type": "execute_result",
     "data": {
      "text/plain": [
       "5"
      ]
     },
     "metadata": {},
     "execution_count": 6
    }
   ],
   "source": [
    "x[4]        #Get 4th index element of array x"
   ]
  },
  {
   "cell_type": "code",
   "execution_count": 7,
   "metadata": {},
   "outputs": [
    {
     "output_type": "execute_result",
     "data": {
      "text/plain": [
       "array([7, 9, 8])"
      ]
     },
     "metadata": {},
     "execution_count": 7
    }
   ],
   "source": [
    "x[x>5]      #Get array element who is greter then 5"
   ]
  },
  {
   "cell_type": "code",
   "execution_count": 8,
   "metadata": {},
   "outputs": [
    {
     "output_type": "execute_result",
     "data": {
      "text/plain": [
       "array([9, 7])"
      ]
     },
     "metadata": {},
     "execution_count": 8
    }
   ],
   "source": [
    "x[[2,1]]    #Get element at index 2 and index 1 by fanci indexing"
   ]
  },
  {
   "cell_type": "code",
   "execution_count": 9,
   "metadata": {},
   "outputs": [
    {
     "output_type": "execute_result",
     "data": {
      "text/plain": [
       "array([[0.53900589, 0.9248762 , 0.73091735, 0.49073723, 0.94926342,\n",
       "        0.40785573, 0.1484195 , 0.74759201, 0.09357343, 0.65854242],\n",
       "       [0.07164602, 0.8194294 , 0.30070001, 0.90607777, 0.55240294,\n",
       "        0.52135432, 0.35164738, 0.79859353, 0.91242213, 0.54991827],\n",
       "       [0.41922996, 0.71898648, 0.69173782, 0.03484944, 0.51500791,\n",
       "        0.36956628, 0.59065661, 0.87776658, 0.66423185, 0.72044526],\n",
       "       [0.26971347, 0.19568078, 0.32557721, 0.25209956, 0.19665758,\n",
       "        0.45143187, 0.02081902, 0.24759508, 0.90651654, 0.82007169],\n",
       "       [0.02972992, 0.71352181, 0.0322869 , 0.29108603, 0.29188316,\n",
       "        0.39387804, 0.89065533, 0.99123315, 0.87254476, 0.72704737],\n",
       "       [0.37222683, 0.21013766, 0.90939119, 0.51517318, 0.20734256,\n",
       "        0.31993135, 0.05828752, 0.93203727, 0.33120223, 0.40232735],\n",
       "       [0.27719527, 0.92077055, 0.84523711, 0.15003603, 0.18654842,\n",
       "        0.40334909, 0.83677141, 0.29248595, 0.28970741, 0.15284314],\n",
       "       [0.64965015, 0.29581135, 0.74518807, 0.99427136, 0.1482074 ,\n",
       "        0.74011005, 0.29563975, 0.13177452, 0.25508749, 0.4326121 ],\n",
       "       [0.3198146 , 0.90161578, 0.46136319, 0.90421182, 0.54524921,\n",
       "        0.12597647, 0.733471  , 0.54757659, 0.05953848, 0.21985978],\n",
       "       [0.25183473, 0.59179601, 0.63782547, 0.22386784, 0.26894841,\n",
       "        0.75684801, 0.32660296, 0.39563212, 0.07373863, 0.89853381]])"
      ]
     },
     "metadata": {},
     "execution_count": 9
    }
   ],
   "source": [
    "x = np.random.rand(10,10)\n",
    "x"
   ]
  },
  {
   "cell_type": "code",
   "execution_count": 10,
   "metadata": {},
   "outputs": [
    {
     "output_type": "execute_result",
     "data": {
      "text/plain": [
       "array([0.53900589, 0.9248762 , 0.73091735, 0.49073723, 0.94926342,\n",
       "       0.40785573, 0.1484195 , 0.74759201, 0.09357343, 0.65854242])"
      ]
     },
     "metadata": {},
     "execution_count": 10
    }
   ],
   "source": [
    "x[0]        #Get first row"
   ]
  },
  {
   "cell_type": "code",
   "execution_count": 11,
   "metadata": {},
   "outputs": [
    {
     "output_type": "execute_result",
     "data": {
      "text/plain": [
       "0.9492634196329536"
      ]
     },
     "metadata": {},
     "execution_count": 11
    }
   ],
   "source": [
    "x[0][4]     #Get 4th value of first row "
   ]
  },
  {
   "cell_type": "code",
   "execution_count": 12,
   "metadata": {},
   "outputs": [
    {
     "output_type": "execute_result",
     "data": {
      "text/plain": [
       "array([[0.07164602, 0.8194294 , 0.30070001, 0.90607777, 0.55240294,\n",
       "        0.52135432, 0.35164738, 0.79859353, 0.91242213, 0.54991827],\n",
       "       [0.26971347, 0.19568078, 0.32557721, 0.25209956, 0.19665758,\n",
       "        0.45143187, 0.02081902, 0.24759508, 0.90651654, 0.82007169],\n",
       "       [0.37222683, 0.21013766, 0.90939119, 0.51517318, 0.20734256,\n",
       "        0.31993135, 0.05828752, 0.93203727, 0.33120223, 0.40232735],\n",
       "       [0.64965015, 0.29581135, 0.74518807, 0.99427136, 0.1482074 ,\n",
       "        0.74011005, 0.29563975, 0.13177452, 0.25508749, 0.4326121 ],\n",
       "       [0.25183473, 0.59179601, 0.63782547, 0.22386784, 0.26894841,\n",
       "        0.75684801, 0.32660296, 0.39563212, 0.07373863, 0.89853381]])"
      ]
     },
     "metadata": {},
     "execution_count": 12
    }
   ],
   "source": [
    "x[1:10:2]   #Get odd rows from 1 till 10 with step value 2"
   ]
  },
  {
   "cell_type": "code",
   "execution_count": 13,
   "metadata": {},
   "outputs": [
    {
     "output_type": "execute_result",
     "data": {
      "text/plain": [
       "array([[0.53900589, 0.9248762 , 0.73091735, 0.49073723],\n",
       "       [0.07164602, 0.8194294 , 0.30070001, 0.90607777],\n",
       "       [0.41922996, 0.71898648, 0.69173782, 0.03484944],\n",
       "       [0.26971347, 0.19568078, 0.32557721, 0.25209956],\n",
       "       [0.02972992, 0.71352181, 0.0322869 , 0.29108603],\n",
       "       [0.37222683, 0.21013766, 0.90939119, 0.51517318],\n",
       "       [0.27719527, 0.92077055, 0.84523711, 0.15003603],\n",
       "       [0.64965015, 0.29581135, 0.74518807, 0.99427136],\n",
       "       [0.3198146 , 0.90161578, 0.46136319, 0.90421182],\n",
       "       [0.25183473, 0.59179601, 0.63782547, 0.22386784]])"
      ]
     },
     "metadata": {},
     "execution_count": 13
    }
   ],
   "source": [
    "x[::,0:4]   #Get start 4th coloums from array, \"::\" show all rows"
   ]
  },
  {
   "cell_type": "code",
   "execution_count": 14,
   "metadata": {},
   "outputs": [],
   "source": [
    "#Example\n",
    "#Make square shape with border 1 but having 0 in inner element"
   ]
  },
  {
   "cell_type": "code",
   "execution_count": 15,
   "metadata": {},
   "outputs": [
    {
     "output_type": "execute_result",
     "data": {
      "text/plain": [
       "array([[1., 1., 1., 1., 1.],\n",
       "       [1., 1., 1., 1., 1.],\n",
       "       [1., 1., 1., 1., 1.],\n",
       "       [1., 1., 1., 1., 1.],\n",
       "       [1., 1., 1., 1., 1.]])"
      ]
     },
     "metadata": {},
     "execution_count": 15
    }
   ],
   "source": [
    "x = np.ones((5,5))\n",
    "x"
   ]
  },
  {
   "cell_type": "code",
   "execution_count": 16,
   "metadata": {},
   "outputs": [
    {
     "output_type": "execute_result",
     "data": {
      "text/plain": [
       "array([[1., 1., 1., 1., 1.],\n",
       "       [1., 0., 0., 0., 1.],\n",
       "       [1., 0., 0., 0., 1.],\n",
       "       [1., 0., 0., 0., 1.],\n",
       "       [1., 1., 1., 1., 1.]])"
      ]
     },
     "metadata": {},
     "execution_count": 16
    }
   ],
   "source": [
    "x[1:-1,1:-1] = 0\n",
    "x"
   ]
  }
 ]
}