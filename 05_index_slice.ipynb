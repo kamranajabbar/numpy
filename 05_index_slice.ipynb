{
 "metadata": {
  "language_info": {
   "codemirror_mode": {
    "name": "ipython",
    "version": 3
   },
   "file_extension": ".py",
   "mimetype": "text/x-python",
   "name": "python",
   "nbconvert_exporter": "python",
   "pygments_lexer": "ipython3",
   "version": "3.8.5-final"
  },
  "orig_nbformat": 2,
  "kernelspec": {
   "name": "python3",
   "display_name": "Python 3.8.5 64-bit (conda)",
   "metadata": {
    "interpreter": {
     "hash": "0dcd4ec83837b8554bc20226fba95fdb97a112f322b21fe213505dfa74ddbf76"
    }
   }
  }
 },
 "nbformat": 4,
 "nbformat_minor": 2,
 "cells": [
  {
   "cell_type": "code",
   "execution_count": 2,
   "metadata": {},
   "outputs": [],
   "source": [
    "import numpy as np"
   ]
  },
  {
   "cell_type": "code",
   "execution_count": 3,
   "metadata": {},
   "outputs": [],
   "source": [
    "x = np.array([1,7,9,8,5])       #Create array with 5 elements"
   ]
  },
  {
   "cell_type": "code",
   "execution_count": 4,
   "metadata": {},
   "outputs": [
    {
     "output_type": "execute_result",
     "data": {
      "text/plain": [
       "5"
      ]
     },
     "metadata": {},
     "execution_count": 4
    }
   ],
   "source": [
    "x[4]        #Get 4th index element of array x"
   ]
  },
  {
   "cell_type": "code",
   "execution_count": 5,
   "metadata": {},
   "outputs": [
    {
     "output_type": "execute_result",
     "data": {
      "text/plain": [
       "array([7, 9, 8])"
      ]
     },
     "metadata": {},
     "execution_count": 5
    }
   ],
   "source": [
    "x[x>5]      #Get array element who is greter then 5"
   ]
  },
  {
   "cell_type": "code",
   "execution_count": 6,
   "metadata": {},
   "outputs": [
    {
     "output_type": "execute_result",
     "data": {
      "text/plain": [
       "array([9, 7])"
      ]
     },
     "metadata": {},
     "execution_count": 6
    }
   ],
   "source": [
    "x[[2,1]]    #Get element at index 2 and index 1 by fanci indexing"
   ]
  },
  {
   "cell_type": "code",
   "execution_count": 7,
   "metadata": {},
   "outputs": [
    {
     "output_type": "execute_result",
     "data": {
      "text/plain": [
       "array([[0.5984551 , 0.17803444, 0.87389904, 0.60062083, 0.63687012,\n",
       "        0.63594821, 0.17722077, 0.45464765, 0.18411563, 0.21627645],\n",
       "       [0.37521508, 0.32058422, 0.2744547 , 0.23747724, 0.89210207,\n",
       "        0.85179275, 0.99727154, 0.66463406, 0.43785599, 0.42468117],\n",
       "       [0.84544116, 0.16319141, 0.81514384, 0.77586377, 0.67739013,\n",
       "        0.86559619, 0.12555853, 0.0340751 , 0.90300478, 0.25567533],\n",
       "       [0.56295185, 0.8978739 , 0.59913257, 0.62263634, 0.26663052,\n",
       "        0.06841319, 0.5538429 , 0.66009162, 0.60606838, 0.39676383],\n",
       "       [0.44780434, 0.97013122, 0.95872013, 0.27389807, 0.0766023 ,\n",
       "        0.05882269, 0.95597995, 0.28088156, 0.17504032, 0.28910295],\n",
       "       [0.74862644, 0.30249878, 0.48922403, 0.36268893, 0.24062046,\n",
       "        0.39900741, 0.84423388, 0.00523366, 0.33719244, 0.74209884],\n",
       "       [0.34716902, 0.41015018, 0.23156818, 0.20488298, 0.25739553,\n",
       "        0.48205689, 0.86793946, 0.37177584, 0.2302216 , 0.83592986],\n",
       "       [0.40234489, 0.96854656, 0.18137496, 0.53155644, 0.36910028,\n",
       "        0.15130307, 0.20785233, 0.36575897, 0.18871759, 0.98153317],\n",
       "       [0.49563707, 0.56043568, 0.87174816, 0.15519822, 0.29942292,\n",
       "        0.6373602 , 0.61280098, 0.47190377, 0.28604137, 0.02048261],\n",
       "       [0.64402758, 0.56429355, 0.82440193, 0.71144938, 0.31546436,\n",
       "        0.98170172, 0.68048544, 0.27410514, 0.94847874, 0.36412691]])"
      ]
     },
     "metadata": {},
     "execution_count": 7
    }
   ],
   "source": [
    "x = np.random.rand(10,10)\n",
    "x"
   ]
  },
  {
   "cell_type": "code",
   "execution_count": 8,
   "metadata": {},
   "outputs": [
    {
     "output_type": "execute_result",
     "data": {
      "text/plain": [
       "array([0.5984551 , 0.17803444, 0.87389904, 0.60062083, 0.63687012,\n",
       "       0.63594821, 0.17722077, 0.45464765, 0.18411563, 0.21627645])"
      ]
     },
     "metadata": {},
     "execution_count": 8
    }
   ],
   "source": [
    "x[0]        #Get first row"
   ]
  },
  {
   "cell_type": "code",
   "execution_count": 9,
   "metadata": {},
   "outputs": [
    {
     "output_type": "execute_result",
     "data": {
      "text/plain": [
       "0.6368701178296214"
      ]
     },
     "metadata": {},
     "execution_count": 9
    }
   ],
   "source": [
    "x[0][4]     #Get 4th value of first row "
   ]
  },
  {
   "cell_type": "code",
   "execution_count": 10,
   "metadata": {},
   "outputs": [
    {
     "output_type": "execute_result",
     "data": {
      "text/plain": [
       "array([[0.37521508, 0.32058422, 0.2744547 , 0.23747724, 0.89210207,\n",
       "        0.85179275, 0.99727154, 0.66463406, 0.43785599, 0.42468117],\n",
       "       [0.56295185, 0.8978739 , 0.59913257, 0.62263634, 0.26663052,\n",
       "        0.06841319, 0.5538429 , 0.66009162, 0.60606838, 0.39676383],\n",
       "       [0.74862644, 0.30249878, 0.48922403, 0.36268893, 0.24062046,\n",
       "        0.39900741, 0.84423388, 0.00523366, 0.33719244, 0.74209884],\n",
       "       [0.40234489, 0.96854656, 0.18137496, 0.53155644, 0.36910028,\n",
       "        0.15130307, 0.20785233, 0.36575897, 0.18871759, 0.98153317],\n",
       "       [0.64402758, 0.56429355, 0.82440193, 0.71144938, 0.31546436,\n",
       "        0.98170172, 0.68048544, 0.27410514, 0.94847874, 0.36412691]])"
      ]
     },
     "metadata": {},
     "execution_count": 10
    }
   ],
   "source": [
    "x[1:10:2]   #Get odd rows from 1 till 10 with step value 2"
   ]
  },
  {
   "cell_type": "code",
   "execution_count": 11,
   "metadata": {},
   "outputs": [
    {
     "output_type": "execute_result",
     "data": {
      "text/plain": [
       "array([[0.5984551 , 0.17803444, 0.87389904, 0.60062083],\n",
       "       [0.37521508, 0.32058422, 0.2744547 , 0.23747724],\n",
       "       [0.84544116, 0.16319141, 0.81514384, 0.77586377],\n",
       "       [0.56295185, 0.8978739 , 0.59913257, 0.62263634],\n",
       "       [0.44780434, 0.97013122, 0.95872013, 0.27389807],\n",
       "       [0.74862644, 0.30249878, 0.48922403, 0.36268893],\n",
       "       [0.34716902, 0.41015018, 0.23156818, 0.20488298],\n",
       "       [0.40234489, 0.96854656, 0.18137496, 0.53155644],\n",
       "       [0.49563707, 0.56043568, 0.87174816, 0.15519822],\n",
       "       [0.64402758, 0.56429355, 0.82440193, 0.71144938]])"
      ]
     },
     "metadata": {},
     "execution_count": 11
    }
   ],
   "source": [
    "x[::,0:4]   #Get start 4th coloums from array, \"::\" show all rows"
   ]
  },
  {
   "cell_type": "code",
   "execution_count": 12,
   "metadata": {},
   "outputs": [],
   "source": [
    "#Example\n",
    "#Make square shape with border 1 but having 0 in inner element"
   ]
  },
  {
   "cell_type": "code",
   "execution_count": 13,
   "metadata": {},
   "outputs": [
    {
     "output_type": "execute_result",
     "data": {
      "text/plain": [
       "array([[1., 1., 1., 1., 1.],\n",
       "       [1., 1., 1., 1., 1.],\n",
       "       [1., 1., 1., 1., 1.],\n",
       "       [1., 1., 1., 1., 1.],\n",
       "       [1., 1., 1., 1., 1.]])"
      ]
     },
     "metadata": {},
     "execution_count": 13
    }
   ],
   "source": [
    "x = np.ones((5,5))\n",
    "x"
   ]
  },
  {
   "cell_type": "code",
   "execution_count": 15,
   "metadata": {},
   "outputs": [
    {
     "output_type": "execute_result",
     "data": {
      "text/plain": [
       "array([[1., 1., 1., 1., 1.],\n",
       "       [1., 0., 0., 0., 1.],\n",
       "       [1., 0., 0., 0., 1.],\n",
       "       [1., 0., 0., 0., 1.],\n",
       "       [1., 1., 1., 1., 1.]])"
      ]
     },
     "metadata": {},
     "execution_count": 15
    }
   ],
   "source": [
    "x[1:-1,1:-1] = 0\n",
    "x"
   ]
  }
 ]
}