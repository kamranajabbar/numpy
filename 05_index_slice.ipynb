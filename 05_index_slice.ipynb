{
 "metadata": {
  "language_info": {
   "codemirror_mode": {
    "name": "ipython",
    "version": 3
   },
   "file_extension": ".py",
   "mimetype": "text/x-python",
   "name": "python",
   "nbconvert_exporter": "python",
   "pygments_lexer": "ipython3",
   "version": "3.8.5-final"
  },
  "orig_nbformat": 2,
  "kernelspec": {
   "name": "python3",
   "display_name": "Python 3",
   "language": "python"
  }
 },
 "nbformat": 4,
 "nbformat_minor": 2,
 "cells": [
  {
   "cell_type": "code",
   "execution_count": 1,
   "metadata": {},
   "outputs": [],
   "source": [
    "import numpy as np"
   ]
  },
  {
   "cell_type": "code",
   "execution_count": 2,
   "metadata": {},
   "outputs": [],
   "source": [
    "x = np.array([1,7,9,8,5])       #Create array with 5 elements"
   ]
  },
  {
   "cell_type": "code",
   "execution_count": 7,
   "metadata": {},
   "outputs": [
    {
     "output_type": "execute_result",
     "data": {
      "text/plain": [
       "5"
      ]
     },
     "metadata": {},
     "execution_count": 7
    }
   ],
   "source": [
    "x[4]        #Get 4th index element of array x"
   ]
  },
  {
   "cell_type": "code",
   "execution_count": 8,
   "metadata": {},
   "outputs": [
    {
     "output_type": "execute_result",
     "data": {
      "text/plain": [
       "array([7, 9, 8])"
      ]
     },
     "metadata": {},
     "execution_count": 8
    }
   ],
   "source": [
    "x[x>5]      #Get array element who is greter then 5"
   ]
  },
  {
   "cell_type": "code",
   "execution_count": 11,
   "metadata": {},
   "outputs": [
    {
     "output_type": "execute_result",
     "data": {
      "text/plain": [
       "array([9, 7])"
      ]
     },
     "metadata": {},
     "execution_count": 11
    }
   ],
   "source": [
    "x[[2,1]]    #Get element at index 2 and index 1 by fanci indexing"
   ]
  },
  {
   "cell_type": "code",
   "execution_count": 13,
   "metadata": {},
   "outputs": [
    {
     "output_type": "execute_result",
     "data": {
      "text/plain": [
       "array([[0.90779177, 0.20242484, 0.09705827, 0.762934  , 0.21420582,\n",
       "        0.89893089, 0.076776  , 0.79340796, 0.57527807, 0.61590671],\n",
       "       [0.25600124, 0.46631575, 0.97877031, 0.83015437, 0.37463448,\n",
       "        0.74911181, 0.9045365 , 0.67104507, 0.00114716, 0.04712202],\n",
       "       [0.42313016, 0.62131964, 0.09286135, 0.9206791 , 0.81585492,\n",
       "        0.68558431, 0.70771747, 0.66425628, 0.34043532, 0.45449921],\n",
       "       [0.9359457 , 0.22422524, 0.08327891, 0.97822198, 0.20550149,\n",
       "        0.02867606, 0.42466873, 0.02654426, 0.0021664 , 0.07742218],\n",
       "       [0.1797557 , 0.49362417, 0.44647465, 0.89145826, 0.32877746,\n",
       "        0.04599058, 0.83884927, 0.70337371, 0.38378724, 0.67141688],\n",
       "       [0.79882372, 0.31321199, 0.56252565, 0.49604658, 0.62016817,\n",
       "        0.7089699 , 0.97432535, 0.51532347, 0.00682488, 0.89861778],\n",
       "       [0.32707146, 0.67958278, 0.42927885, 0.62377263, 0.94585643,\n",
       "        0.90645309, 0.03590862, 0.59247706, 0.72700361, 0.7261319 ],\n",
       "       [0.2874629 , 0.35890493, 0.4413416 , 0.45164829, 0.11803836,\n",
       "        0.81943015, 0.41540686, 0.85084304, 0.97962436, 0.79161457],\n",
       "       [0.60588754, 0.59292884, 0.5580014 , 0.73857104, 0.04726277,\n",
       "        0.29524977, 0.98691476, 0.89851052, 0.16143625, 0.93106388],\n",
       "       [0.87054487, 0.78201296, 0.61756425, 0.93725028, 0.77649533,\n",
       "        0.20919206, 0.47162917, 0.19774464, 0.24568643, 0.88314364]])"
      ]
     },
     "metadata": {},
     "execution_count": 13
    }
   ],
   "source": [
    "x = np.random.rand(10,10)\n",
    "x"
   ]
  },
  {
   "cell_type": "code",
   "execution_count": 15,
   "metadata": {},
   "outputs": [
    {
     "output_type": "execute_result",
     "data": {
      "text/plain": [
       "array([0.90779177, 0.20242484, 0.09705827, 0.762934  , 0.21420582,\n",
       "       0.89893089, 0.076776  , 0.79340796, 0.57527807, 0.61590671])"
      ]
     },
     "metadata": {},
     "execution_count": 15
    }
   ],
   "source": [
    "x[0]        #Get first row"
   ]
  },
  {
   "cell_type": "code",
   "execution_count": 16,
   "metadata": {},
   "outputs": [
    {
     "output_type": "execute_result",
     "data": {
      "text/plain": [
       "0.21420581512101566"
      ]
     },
     "metadata": {},
     "execution_count": 16
    }
   ],
   "source": [
    "x[0][4]     #Get 4th value of first row "
   ]
  },
  {
   "cell_type": "code",
   "execution_count": 19,
   "metadata": {},
   "outputs": [
    {
     "output_type": "execute_result",
     "data": {
      "text/plain": [
       "array([[0.25600124, 0.46631575, 0.97877031, 0.83015437, 0.37463448,\n",
       "        0.74911181, 0.9045365 , 0.67104507, 0.00114716, 0.04712202],\n",
       "       [0.9359457 , 0.22422524, 0.08327891, 0.97822198, 0.20550149,\n",
       "        0.02867606, 0.42466873, 0.02654426, 0.0021664 , 0.07742218],\n",
       "       [0.79882372, 0.31321199, 0.56252565, 0.49604658, 0.62016817,\n",
       "        0.7089699 , 0.97432535, 0.51532347, 0.00682488, 0.89861778],\n",
       "       [0.2874629 , 0.35890493, 0.4413416 , 0.45164829, 0.11803836,\n",
       "        0.81943015, 0.41540686, 0.85084304, 0.97962436, 0.79161457],\n",
       "       [0.87054487, 0.78201296, 0.61756425, 0.93725028, 0.77649533,\n",
       "        0.20919206, 0.47162917, 0.19774464, 0.24568643, 0.88314364]])"
      ]
     },
     "metadata": {},
     "execution_count": 19
    }
   ],
   "source": [
    "x[1:10:2]   #Get odd rows from 1 till 10 with step value 2"
   ]
  },
  {
   "cell_type": "code",
   "execution_count": 22,
   "metadata": {},
   "outputs": [
    {
     "output_type": "execute_result",
     "data": {
      "text/plain": [
       "array([[0.90779177, 0.20242484, 0.09705827, 0.762934  ],\n",
       "       [0.25600124, 0.46631575, 0.97877031, 0.83015437],\n",
       "       [0.42313016, 0.62131964, 0.09286135, 0.9206791 ],\n",
       "       [0.9359457 , 0.22422524, 0.08327891, 0.97822198],\n",
       "       [0.1797557 , 0.49362417, 0.44647465, 0.89145826],\n",
       "       [0.79882372, 0.31321199, 0.56252565, 0.49604658],\n",
       "       [0.32707146, 0.67958278, 0.42927885, 0.62377263],\n",
       "       [0.2874629 , 0.35890493, 0.4413416 , 0.45164829],\n",
       "       [0.60588754, 0.59292884, 0.5580014 , 0.73857104],\n",
       "       [0.87054487, 0.78201296, 0.61756425, 0.93725028]])"
      ]
     },
     "metadata": {},
     "execution_count": 22
    }
   ],
   "source": [
    "x[::,0:4]   #Get start 4th coloums from array, \"::\" show all rows"
   ]
  },
  {
   "cell_type": "code",
   "execution_count": 24,
   "metadata": {},
   "outputs": [],
   "source": [
    "#Example\n",
    "#Make square shape with border 1 but having 0 in inner element"
   ]
  },
  {
   "cell_type": "code",
   "execution_count": 26,
   "metadata": {},
   "outputs": [
    {
     "output_type": "execute_result",
     "data": {
      "text/plain": [
       "array([[1., 1., 1., 1., 1.],\n",
       "       [1., 1., 1., 1., 1.],\n",
       "       [1., 1., 1., 1., 1.],\n",
       "       [1., 1., 1., 1., 1.],\n",
       "       [1., 1., 1., 1., 1.]])"
      ]
     },
     "metadata": {},
     "execution_count": 26
    }
   ],
   "source": [
    "x = np.ones((5,5))\n",
    "x"
   ]
  },
  {
   "cell_type": "code",
   "execution_count": 39,
   "metadata": {},
   "outputs": [
    {
     "output_type": "execute_result",
     "data": {
      "text/plain": [
       "array([[1., 1., 1., 1., 1.],\n",
       "       [1., 0., 0., 0., 1.],\n",
       "       [1., 0., 0., 0., 1.],\n",
       "       [1., 0., 0., 0., 1.],\n",
       "       [1., 1., 1., 1., 1.]])"
      ]
     },
     "metadata": {},
     "execution_count": 39
    }
   ],
   "source": [
    "x[1:-1,1:-1] = 0\n",
    "x"
   ]
  },
  {
   "cell_type": "code",
   "execution_count": null,
   "metadata": {},
   "outputs": [],
   "source": []
  }
 ]
}