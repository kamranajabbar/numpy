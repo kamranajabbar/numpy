{
 "metadata": {
  "language_info": {
   "codemirror_mode": {
    "name": "ipython",
    "version": 3
   },
   "file_extension": ".py",
   "mimetype": "text/x-python",
   "name": "python",
   "nbconvert_exporter": "python",
   "pygments_lexer": "ipython3",
   "version": "3.8.5-final"
  },
  "orig_nbformat": 2,
  "kernelspec": {
   "name": "python3",
   "display_name": "Python 3.8.5 64-bit (conda)",
   "metadata": {
    "interpreter": {
     "hash": "0dcd4ec83837b8554bc20226fba95fdb97a112f322b21fe213505dfa74ddbf76"
    }
   }
  }
 },
 "nbformat": 4,
 "nbformat_minor": 2,
 "cells": [
  {
   "source": [
    "### Reshape"
   ],
   "cell_type": "markdown",
   "metadata": {}
  },
  {
   "cell_type": "code",
   "execution_count": 2,
   "metadata": {},
   "outputs": [],
   "source": [
    "import numpy as np"
   ]
  },
  {
   "cell_type": "code",
   "execution_count": 4,
   "metadata": {},
   "outputs": [
    {
     "output_type": "execute_result",
     "data": {
      "text/plain": [
       "array([[ 0.48487665, -0.79300821, -1.38997612,  1.24118147, -0.09100165],\n",
       "       [ 0.91044749,  0.7686195 , -0.86661186, -0.24279597,  1.18023011],\n",
       "       [ 0.95018672,  0.5432596 , -1.50713264, -1.39827776,  1.33009093],\n",
       "       [-1.07220479,  0.69561468,  0.5671292 ,  1.71330037,  0.14462479]])"
      ]
     },
     "metadata": {},
     "execution_count": 4
    }
   ],
   "source": [
    "x = np.random.randn(4,5)\n",
    "x"
   ]
  },
  {
   "cell_type": "code",
   "execution_count": 5,
   "metadata": {},
   "outputs": [
    {
     "output_type": "execute_result",
     "data": {
      "text/plain": [
       "array([[[ 0.48487665, -0.79300821, -1.38997612,  1.24118147,\n",
       "         -0.09100165],\n",
       "        [ 0.91044749,  0.7686195 , -0.86661186, -0.24279597,\n",
       "          1.18023011]],\n",
       "\n",
       "       [[ 0.95018672,  0.5432596 , -1.50713264, -1.39827776,\n",
       "          1.33009093],\n",
       "        [-1.07220479,  0.69561468,  0.5671292 ,  1.71330037,\n",
       "          0.14462479]]])"
      ]
     },
     "metadata": {},
     "execution_count": 5
    }
   ],
   "source": [
    "x.reshape((2,2,5))              #row major order"
   ]
  },
  {
   "cell_type": "code",
   "execution_count": 7,
   "metadata": {},
   "outputs": [
    {
     "output_type": "execute_result",
     "data": {
      "text/plain": [
       "array([[[ 0.48487665, -0.79300821, -1.38997612,  1.24118147,\n",
       "         -0.09100165],\n",
       "        [ 0.95018672,  0.5432596 , -1.50713264, -1.39827776,\n",
       "          1.33009093]],\n",
       "\n",
       "       [[ 0.91044749,  0.7686195 , -0.86661186, -0.24279597,\n",
       "          1.18023011],\n",
       "        [-1.07220479,  0.69561468,  0.5671292 ,  1.71330037,\n",
       "          0.14462479]]])"
      ]
     },
     "metadata": {},
     "execution_count": 7
    }
   ],
   "source": [
    "x.reshape((2,2,5), order='F')   #colume major order"
   ]
  },
  {
   "cell_type": "code",
   "execution_count": 9,
   "metadata": {},
   "outputs": [
    {
     "output_type": "execute_result",
     "data": {
      "text/plain": [
       "array([[[ 0.48487665, -0.79300821, -1.38997612,  1.24118147,\n",
       "         -0.09100165],\n",
       "        [ 0.91044749,  0.7686195 , -0.86661186, -0.24279597,\n",
       "          1.18023011]],\n",
       "\n",
       "       [[ 0.95018672,  0.5432596 , -1.50713264, -1.39827776,\n",
       "          1.33009093],\n",
       "        [-1.07220479,  0.69561468,  0.5671292 ,  1.71330037,\n",
       "          0.14462479]]])"
      ]
     },
     "metadata": {},
     "execution_count": 9
    }
   ],
   "source": [
    "x.reshape((2,2,-1))"
   ]
  },
  {
   "cell_type": "code",
   "execution_count": 11,
   "metadata": {},
   "outputs": [
    {
     "output_type": "execute_result",
     "data": {
      "text/plain": [
       "array([[ 0.48487665, -0.79300821, -1.38997612,  1.24118147, -0.09100165],\n",
       "       [ 0.91044749,  0.7686195 , -0.86661186, -0.24279597,  1.18023011],\n",
       "       [ 0.95018672,  0.5432596 , -1.50713264, -1.39827776,  1.33009093],\n",
       "       [-1.07220479,  0.69561468,  0.5671292 ,  1.71330037,  0.14462479]])"
      ]
     },
     "metadata": {},
     "execution_count": 11
    }
   ],
   "source": [
    "x               #Two dimentional array"
   ]
  },
  {
   "cell_type": "code",
   "execution_count": 13,
   "metadata": {},
   "outputs": [
    {
     "output_type": "execute_result",
     "data": {
      "text/plain": [
       "array([ 0.48487665, -0.79300821, -1.38997612,  1.24118147, -0.09100165,\n",
       "        0.91044749,  0.7686195 , -0.86661186, -0.24279597,  1.18023011,\n",
       "        0.95018672,  0.5432596 , -1.50713264, -1.39827776,  1.33009093,\n",
       "       -1.07220479,  0.69561468,  0.5671292 ,  1.71330037,  0.14462479])"
      ]
     },
     "metadata": {},
     "execution_count": 13
    }
   ],
   "source": [
    "x.ravel()       #Convert in one dimentional array - 1st way"
   ]
  },
  {
   "cell_type": "code",
   "execution_count": 14,
   "metadata": {},
   "outputs": [
    {
     "output_type": "execute_result",
     "data": {
      "text/plain": [
       "array([ 0.48487665, -0.79300821, -1.38997612,  1.24118147, -0.09100165,\n",
       "        0.91044749,  0.7686195 , -0.86661186, -0.24279597,  1.18023011,\n",
       "        0.95018672,  0.5432596 , -1.50713264, -1.39827776,  1.33009093,\n",
       "       -1.07220479,  0.69561468,  0.5671292 ,  1.71330037,  0.14462479])"
      ]
     },
     "metadata": {},
     "execution_count": 14
    }
   ],
   "source": [
    "x.flatten()     #Convert in one dimentional array - 2nd way"
   ]
  }
 ]
}