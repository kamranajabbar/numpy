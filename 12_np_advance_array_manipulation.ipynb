{
 "metadata": {
  "language_info": {
   "codemirror_mode": {
    "name": "ipython",
    "version": 3
   },
   "file_extension": ".py",
   "mimetype": "text/x-python",
   "name": "python",
   "nbconvert_exporter": "python",
   "pygments_lexer": "ipython3",
   "version": "3.8.5-final"
  },
  "orig_nbformat": 2,
  "kernelspec": {
   "name": "python3",
   "display_name": "Python 3.8.5 64-bit (conda)",
   "metadata": {
    "interpreter": {
     "hash": "0dcd4ec83837b8554bc20226fba95fdb97a112f322b21fe213505dfa74ddbf76"
    }
   }
  }
 },
 "nbformat": 4,
 "nbformat_minor": 2,
 "cells": [
  {
   "source": [
    "### Reshape"
   ],
   "cell_type": "markdown",
   "metadata": {}
  },
  {
   "cell_type": "code",
   "execution_count": 47,
   "metadata": {},
   "outputs": [],
   "source": [
    "import numpy as np"
   ]
  },
  {
   "cell_type": "code",
   "execution_count": 48,
   "metadata": {},
   "outputs": [
    {
     "output_type": "execute_result",
     "data": {
      "text/plain": [
       "array([[-0.40267445,  0.364525  ,  1.13870548, -0.73130952, -2.95333508],\n",
       "       [ 0.90260914, -3.01872503, -1.25262076,  2.13034019,  1.4774883 ],\n",
       "       [-1.87721787,  0.10411306,  0.62659653, -0.11077566, -0.37401641],\n",
       "       [ 0.12397663, -0.57593533, -0.31038344,  1.59053015, -0.20005505]])"
      ]
     },
     "metadata": {},
     "execution_count": 48
    }
   ],
   "source": [
    "x = np.random.randn(4,5)\n",
    "x"
   ]
  },
  {
   "cell_type": "code",
   "execution_count": 49,
   "metadata": {},
   "outputs": [
    {
     "output_type": "execute_result",
     "data": {
      "text/plain": [
       "array([[[-0.40267445,  0.364525  ,  1.13870548, -0.73130952,\n",
       "         -2.95333508],\n",
       "        [ 0.90260914, -3.01872503, -1.25262076,  2.13034019,\n",
       "          1.4774883 ]],\n",
       "\n",
       "       [[-1.87721787,  0.10411306,  0.62659653, -0.11077566,\n",
       "         -0.37401641],\n",
       "        [ 0.12397663, -0.57593533, -0.31038344,  1.59053015,\n",
       "         -0.20005505]]])"
      ]
     },
     "metadata": {},
     "execution_count": 49
    }
   ],
   "source": [
    "x.reshape((2,2,5))              #row major order"
   ]
  },
  {
   "cell_type": "code",
   "execution_count": 50,
   "metadata": {},
   "outputs": [
    {
     "output_type": "execute_result",
     "data": {
      "text/plain": [
       "array([[[-0.40267445,  0.364525  ,  1.13870548, -0.73130952,\n",
       "         -2.95333508],\n",
       "        [-1.87721787,  0.10411306,  0.62659653, -0.11077566,\n",
       "         -0.37401641]],\n",
       "\n",
       "       [[ 0.90260914, -3.01872503, -1.25262076,  2.13034019,\n",
       "          1.4774883 ],\n",
       "        [ 0.12397663, -0.57593533, -0.31038344,  1.59053015,\n",
       "         -0.20005505]]])"
      ]
     },
     "metadata": {},
     "execution_count": 50
    }
   ],
   "source": [
    "x.reshape((2,2,5), order='F')   #colume major order"
   ]
  },
  {
   "cell_type": "code",
   "execution_count": 51,
   "metadata": {},
   "outputs": [
    {
     "output_type": "execute_result",
     "data": {
      "text/plain": [
       "array([[[-0.40267445,  0.364525  ,  1.13870548, -0.73130952,\n",
       "         -2.95333508],\n",
       "        [ 0.90260914, -3.01872503, -1.25262076,  2.13034019,\n",
       "          1.4774883 ]],\n",
       "\n",
       "       [[-1.87721787,  0.10411306,  0.62659653, -0.11077566,\n",
       "         -0.37401641],\n",
       "        [ 0.12397663, -0.57593533, -0.31038344,  1.59053015,\n",
       "         -0.20005505]]])"
      ]
     },
     "metadata": {},
     "execution_count": 51
    }
   ],
   "source": [
    "x.reshape((2,2,-1))"
   ]
  },
  {
   "source": [
    "### Conversion"
   ],
   "cell_type": "markdown",
   "metadata": {}
  },
  {
   "cell_type": "code",
   "execution_count": 52,
   "metadata": {},
   "outputs": [
    {
     "output_type": "execute_result",
     "data": {
      "text/plain": [
       "array([[-0.40267445,  0.364525  ,  1.13870548, -0.73130952, -2.95333508],\n",
       "       [ 0.90260914, -3.01872503, -1.25262076,  2.13034019,  1.4774883 ],\n",
       "       [-1.87721787,  0.10411306,  0.62659653, -0.11077566, -0.37401641],\n",
       "       [ 0.12397663, -0.57593533, -0.31038344,  1.59053015, -0.20005505]])"
      ]
     },
     "metadata": {},
     "execution_count": 52
    }
   ],
   "source": [
    "x               #Two dimentional array"
   ]
  },
  {
   "cell_type": "code",
   "execution_count": 53,
   "metadata": {},
   "outputs": [
    {
     "output_type": "execute_result",
     "data": {
      "text/plain": [
       "array([-0.40267445,  0.364525  ,  1.13870548, -0.73130952, -2.95333508,\n",
       "        0.90260914, -3.01872503, -1.25262076,  2.13034019,  1.4774883 ,\n",
       "       -1.87721787,  0.10411306,  0.62659653, -0.11077566, -0.37401641,\n",
       "        0.12397663, -0.57593533, -0.31038344,  1.59053015, -0.20005505])"
      ]
     },
     "metadata": {},
     "execution_count": 53
    }
   ],
   "source": [
    "x.ravel()       #Convert in one dimentional array - 1st way"
   ]
  },
  {
   "cell_type": "code",
   "execution_count": 54,
   "metadata": {},
   "outputs": [
    {
     "output_type": "execute_result",
     "data": {
      "text/plain": [
       "array([-0.40267445,  0.364525  ,  1.13870548, -0.73130952, -2.95333508,\n",
       "        0.90260914, -3.01872503, -1.25262076,  2.13034019,  1.4774883 ,\n",
       "       -1.87721787,  0.10411306,  0.62659653, -0.11077566, -0.37401641,\n",
       "        0.12397663, -0.57593533, -0.31038344,  1.59053015, -0.20005505])"
      ]
     },
     "metadata": {},
     "execution_count": 54
    }
   ],
   "source": [
    "x.flatten()     #Convert in one dimentional array - 2nd way"
   ]
  },
  {
   "source": [
    "### Concatenate"
   ],
   "cell_type": "markdown",
   "metadata": {}
  },
  {
   "cell_type": "code",
   "execution_count": 55,
   "metadata": {},
   "outputs": [
    {
     "output_type": "execute_result",
     "data": {
      "text/plain": [
       "array([[ 1,  3,  5],\n",
       "       [ 7,  9,  0],\n",
       "       [11, 13, 15],\n",
       "       [17, 19, 10]])"
      ]
     },
     "metadata": {},
     "execution_count": 55
    }
   ],
   "source": [
    "x = [[1,3,5], [7,9,0]]                  #List            \n",
    "arr1 = np.array(x)                      #Convert this list into numpy array\n",
    "y = [[11,13,15], [17,19,10]]            #List  \n",
    "arr2 = np.array(y)                      #Convert this list into numpy array                           \n",
    "np.concatenate((arr1, arr2), axis=0)    #Concate - row wise (v stack)"
   ]
  },
  {
   "cell_type": "code",
   "execution_count": 56,
   "metadata": {},
   "outputs": [
    {
     "output_type": "execute_result",
     "data": {
      "text/plain": [
       "array([[ 1,  3,  5, 11, 13, 15],\n",
       "       [ 7,  9,  0, 17, 19, 10]])"
      ]
     },
     "metadata": {},
     "execution_count": 56
    }
   ],
   "source": [
    "np.concatenate((arr1, arr2), axis=1)    #Concate - colume wise (h stack)"
   ]
  },
  {
   "cell_type": "code",
   "execution_count": 57,
   "metadata": {},
   "outputs": [
    {
     "output_type": "execute_result",
     "data": {
      "text/plain": [
       "array([[ 1,  3,  5],\n",
       "       [ 7,  9,  0],\n",
       "       [11, 13, 15],\n",
       "       [17, 19, 10]])"
      ]
     },
     "metadata": {},
     "execution_count": 57
    }
   ],
   "source": [
    "np.vstack((arr1, arr2))                 #Concate - row wise (v stack)"
   ]
  },
  {
   "cell_type": "code",
   "execution_count": 58,
   "metadata": {},
   "outputs": [
    {
     "output_type": "execute_result",
     "data": {
      "text/plain": [
       "array([[ 1,  3,  5, 11, 13, 15],\n",
       "       [ 7,  9,  0, 17, 19, 10]])"
      ]
     },
     "metadata": {},
     "execution_count": 58
    }
   ],
   "source": [
    "np.hstack((arr1, arr2))                 #Concate - colume wise (h stack)"
   ]
  },
  {
   "source": [
    "### Split"
   ],
   "cell_type": "markdown",
   "metadata": {}
  },
  {
   "cell_type": "code",
   "execution_count": 59,
   "metadata": {},
   "outputs": [
    {
     "output_type": "execute_result",
     "data": {
      "text/plain": [
       "[1, 4, 5, 6, 7, 9, 1, 4]"
      ]
     },
     "metadata": {},
     "execution_count": 59
    }
   ],
   "source": [
    "x = [1,4,5,6,7,9,1,4]       #One dimensional array\n",
    "x"
   ]
  },
  {
   "cell_type": "code",
   "execution_count": 60,
   "metadata": {},
   "outputs": [],
   "source": [
    "d = np.array(x)             #Convert array into np array"
   ]
  },
  {
   "cell_type": "code",
   "execution_count": 61,
   "metadata": {},
   "outputs": [
    {
     "output_type": "execute_result",
     "data": {
      "text/plain": [
       "[array([1, 4]), array([5, 6, 7]), array([9, 1, 4])]"
      ]
     },
     "metadata": {},
     "execution_count": 61
    }
   ],
   "source": [
    "np.split(d, [2,5])          #Split np array rowwise (One dimentional)"
   ]
  },
  {
   "cell_type": "code",
   "execution_count": 62,
   "metadata": {},
   "outputs": [
    {
     "output_type": "execute_result",
     "data": {
      "text/plain": [
       "[[1, 4, 5, 6, 7, 9, 1, 4], [11, 14, 15, 16, 17, 19, 11, 14]]"
      ]
     },
     "metadata": {},
     "execution_count": 62
    }
   ],
   "source": [
    "y = [[1,4,5,6,7,9,1,4], [11,14,15,16,17,19,11,14]] #Two dimensional array\n",
    "y"
   ]
  },
  {
   "cell_type": "code",
   "execution_count": 63,
   "metadata": {},
   "outputs": [],
   "source": [
    "d = np.array(y)             #Convert array into np array"
   ]
  },
  {
   "cell_type": "code",
   "execution_count": 64,
   "metadata": {},
   "outputs": [
    {
     "output_type": "execute_result",
     "data": {
      "text/plain": [
       "[array([[ 1,  4,  5,  6],\n",
       "        [11, 14, 15, 16]]),\n",
       " array([[ 7,  9],\n",
       "        [17, 19]]),\n",
       " array([[ 1,  4],\n",
       "        [11, 14]])]"
      ]
     },
     "metadata": {},
     "execution_count": 64
    }
   ],
   "source": [
    "np.split(d, [4,6], axis=1)  #Split np array by columewise (two dimentional)"
   ]
  },
  {
   "cell_type": "code",
   "execution_count": 65,
   "metadata": {},
   "outputs": [
    {
     "output_type": "execute_result",
     "data": {
      "text/plain": [
       "[array([[1, 4, 5, 6, 7, 9, 1, 4]]), array([[11, 14, 15, 16, 17, 19, 11, 14]])]"
      ]
     },
     "metadata": {},
     "execution_count": 65
    }
   ],
   "source": [
    "np.split(d, [1], axis=0)"
   ]
  },
  {
   "source": [
    "### Repeat and Tile"
   ],
   "cell_type": "markdown",
   "metadata": {}
  },
  {
   "cell_type": "code",
   "execution_count": 66,
   "metadata": {},
   "outputs": [],
   "source": [
    "x = [1,5,7,8]       #One dimensional array\n",
    "d = np.array(x)     #Convert array into np array"
   ]
  },
  {
   "cell_type": "code",
   "execution_count": 67,
   "metadata": {},
   "outputs": [
    {
     "output_type": "execute_result",
     "data": {
      "text/plain": [
       "array([1, 1, 1, 5, 5, 5, 7, 7, 7, 8, 8, 8])"
      ]
     },
     "metadata": {},
     "execution_count": 67
    }
   ],
   "source": [
    "np.repeat(d, 3)"
   ]
  },
  {
   "cell_type": "code",
   "execution_count": 69,
   "metadata": {},
   "outputs": [
    {
     "output_type": "execute_result",
     "data": {
      "text/plain": [
       "array([1, 5, 7, 8, 1, 5, 7, 8])"
      ]
     },
     "metadata": {},
     "execution_count": 69
    }
   ],
   "source": [
    "np.tile(d, 2)"
   ]
  }
 ]
}