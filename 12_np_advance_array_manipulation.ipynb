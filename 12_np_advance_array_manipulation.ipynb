{
 "metadata": {
  "language_info": {
   "codemirror_mode": {
    "name": "ipython",
    "version": 3
   },
   "file_extension": ".py",
   "mimetype": "text/x-python",
   "name": "python",
   "nbconvert_exporter": "python",
   "pygments_lexer": "ipython3",
   "version": "3.8.5-final"
  },
  "orig_nbformat": 2,
  "kernelspec": {
   "name": "python3",
   "display_name": "Python 3.8.5 64-bit (conda)",
   "metadata": {
    "interpreter": {
     "hash": "0dcd4ec83837b8554bc20226fba95fdb97a112f322b21fe213505dfa74ddbf76"
    }
   }
  }
 },
 "nbformat": 4,
 "nbformat_minor": 2,
 "cells": [
  {
   "source": [
    "### Reshape"
   ],
   "cell_type": "markdown",
   "metadata": {}
  },
  {
   "cell_type": "code",
   "execution_count": 3,
   "metadata": {},
   "outputs": [],
   "source": [
    "import numpy as np"
   ]
  },
  {
   "cell_type": "code",
   "execution_count": 4,
   "metadata": {},
   "outputs": [
    {
     "output_type": "execute_result",
     "data": {
      "text/plain": [
       "array([[ 1.61365889,  0.47737879, -0.15499397, -0.00312597, -0.15638305],\n",
       "       [-1.74233203,  2.14211919, -0.48225965, -0.97029668,  1.38500205],\n",
       "       [-0.65759396,  0.13618578, -0.34534027,  0.68118784,  0.26165605],\n",
       "       [-1.06316148, -0.83935595,  0.88271889,  0.18296054,  0.64248484]])"
      ]
     },
     "metadata": {},
     "execution_count": 4
    }
   ],
   "source": [
    "x = np.random.randn(4,5)\n",
    "x"
   ]
  },
  {
   "cell_type": "code",
   "execution_count": 5,
   "metadata": {},
   "outputs": [
    {
     "output_type": "execute_result",
     "data": {
      "text/plain": [
       "array([[[ 1.61365889,  0.47737879, -0.15499397, -0.00312597,\n",
       "         -0.15638305],\n",
       "        [-1.74233203,  2.14211919, -0.48225965, -0.97029668,\n",
       "          1.38500205]],\n",
       "\n",
       "       [[-0.65759396,  0.13618578, -0.34534027,  0.68118784,\n",
       "          0.26165605],\n",
       "        [-1.06316148, -0.83935595,  0.88271889,  0.18296054,\n",
       "          0.64248484]]])"
      ]
     },
     "metadata": {},
     "execution_count": 5
    }
   ],
   "source": [
    "x.reshape((2,2,5))              #row major order"
   ]
  },
  {
   "cell_type": "code",
   "execution_count": 6,
   "metadata": {},
   "outputs": [
    {
     "output_type": "execute_result",
     "data": {
      "text/plain": [
       "array([[[ 1.61365889,  0.47737879, -0.15499397, -0.00312597,\n",
       "         -0.15638305],\n",
       "        [-0.65759396,  0.13618578, -0.34534027,  0.68118784,\n",
       "          0.26165605]],\n",
       "\n",
       "       [[-1.74233203,  2.14211919, -0.48225965, -0.97029668,\n",
       "          1.38500205],\n",
       "        [-1.06316148, -0.83935595,  0.88271889,  0.18296054,\n",
       "          0.64248484]]])"
      ]
     },
     "metadata": {},
     "execution_count": 6
    }
   ],
   "source": [
    "x.reshape((2,2,5), order='F')   #colume major order"
   ]
  },
  {
   "cell_type": "code",
   "execution_count": 7,
   "metadata": {},
   "outputs": [
    {
     "output_type": "execute_result",
     "data": {
      "text/plain": [
       "array([[[ 1.61365889,  0.47737879, -0.15499397, -0.00312597,\n",
       "         -0.15638305],\n",
       "        [-1.74233203,  2.14211919, -0.48225965, -0.97029668,\n",
       "          1.38500205]],\n",
       "\n",
       "       [[-0.65759396,  0.13618578, -0.34534027,  0.68118784,\n",
       "          0.26165605],\n",
       "        [-1.06316148, -0.83935595,  0.88271889,  0.18296054,\n",
       "          0.64248484]]])"
      ]
     },
     "metadata": {},
     "execution_count": 7
    }
   ],
   "source": [
    "x.reshape((2,2,-1))"
   ]
  },
  {
   "source": [
    "### Conversion"
   ],
   "cell_type": "markdown",
   "metadata": {}
  },
  {
   "cell_type": "code",
   "execution_count": 8,
   "metadata": {},
   "outputs": [
    {
     "output_type": "execute_result",
     "data": {
      "text/plain": [
       "array([[ 1.61365889,  0.47737879, -0.15499397, -0.00312597, -0.15638305],\n",
       "       [-1.74233203,  2.14211919, -0.48225965, -0.97029668,  1.38500205],\n",
       "       [-0.65759396,  0.13618578, -0.34534027,  0.68118784,  0.26165605],\n",
       "       [-1.06316148, -0.83935595,  0.88271889,  0.18296054,  0.64248484]])"
      ]
     },
     "metadata": {},
     "execution_count": 8
    }
   ],
   "source": [
    "x               #Two dimentional array"
   ]
  },
  {
   "cell_type": "code",
   "execution_count": 9,
   "metadata": {},
   "outputs": [
    {
     "output_type": "execute_result",
     "data": {
      "text/plain": [
       "array([ 1.61365889,  0.47737879, -0.15499397, -0.00312597, -0.15638305,\n",
       "       -1.74233203,  2.14211919, -0.48225965, -0.97029668,  1.38500205,\n",
       "       -0.65759396,  0.13618578, -0.34534027,  0.68118784,  0.26165605,\n",
       "       -1.06316148, -0.83935595,  0.88271889,  0.18296054,  0.64248484])"
      ]
     },
     "metadata": {},
     "execution_count": 9
    }
   ],
   "source": [
    "x.ravel()       #Convert in one dimentional array - 1st way"
   ]
  },
  {
   "cell_type": "code",
   "execution_count": 10,
   "metadata": {},
   "outputs": [
    {
     "output_type": "execute_result",
     "data": {
      "text/plain": [
       "array([ 1.61365889,  0.47737879, -0.15499397, -0.00312597, -0.15638305,\n",
       "       -1.74233203,  2.14211919, -0.48225965, -0.97029668,  1.38500205,\n",
       "       -0.65759396,  0.13618578, -0.34534027,  0.68118784,  0.26165605,\n",
       "       -1.06316148, -0.83935595,  0.88271889,  0.18296054,  0.64248484])"
      ]
     },
     "metadata": {},
     "execution_count": 10
    }
   ],
   "source": [
    "x.flatten()     #Convert in one dimentional array - 2nd way"
   ]
  },
  {
   "source": [
    "### Concatenate"
   ],
   "cell_type": "markdown",
   "metadata": {}
  },
  {
   "cell_type": "code",
   "execution_count": 12,
   "metadata": {},
   "outputs": [
    {
     "output_type": "execute_result",
     "data": {
      "text/plain": [
       "array([[ 1,  3,  5],\n",
       "       [ 7,  9,  0],\n",
       "       [11, 13, 15],\n",
       "       [17, 19, 10]])"
      ]
     },
     "metadata": {},
     "execution_count": 12
    }
   ],
   "source": [
    "x = [[1,3,5], [7,9,0]]                  #List            \n",
    "arr1 = np.array(x)                      #Convert this list into numpy array\n",
    "y = [[11,13,15], [17,19,10]]            #List  \n",
    "arr2 = np.array(y)                      #Convert this list into numpy array                           \n",
    "np.concatenate((arr1, arr2), axis=0)    #Concate - row wise (v stack)"
   ]
  },
  {
   "cell_type": "code",
   "execution_count": 14,
   "metadata": {},
   "outputs": [
    {
     "output_type": "execute_result",
     "data": {
      "text/plain": [
       "array([[ 1,  3,  5, 11, 13, 15],\n",
       "       [ 7,  9,  0, 17, 19, 10]])"
      ]
     },
     "metadata": {},
     "execution_count": 14
    }
   ],
   "source": [
    "np.concatenate((arr1, arr2), axis=1)    #Concate - colume wise (h stack)"
   ]
  },
  {
   "cell_type": "code",
   "execution_count": 15,
   "metadata": {},
   "outputs": [
    {
     "output_type": "execute_result",
     "data": {
      "text/plain": [
       "array([[ 1,  3,  5],\n",
       "       [ 7,  9,  0],\n",
       "       [11, 13, 15],\n",
       "       [17, 19, 10]])"
      ]
     },
     "metadata": {},
     "execution_count": 15
    }
   ],
   "source": [
    "np.vstack((arr1, arr2))                 #Concate - row wise (v stack)"
   ]
  },
  {
   "cell_type": "code",
   "execution_count": 16,
   "metadata": {},
   "outputs": [
    {
     "output_type": "execute_result",
     "data": {
      "text/plain": [
       "array([[ 1,  3,  5, 11, 13, 15],\n",
       "       [ 7,  9,  0, 17, 19, 10]])"
      ]
     },
     "metadata": {},
     "execution_count": 16
    }
   ],
   "source": [
    "np.hstack((arr1, arr2))                 #Concate - colume wise (h stack)"
   ]
  },
  {
   "source": [
    "### Split"
   ],
   "cell_type": "markdown",
   "metadata": {}
  },
  {
   "cell_type": "code",
   "execution_count": 29,
   "metadata": {},
   "outputs": [
    {
     "output_type": "execute_result",
     "data": {
      "text/plain": [
       "[1, 4, 5, 6, 7, 9, 1, 4]"
      ]
     },
     "metadata": {},
     "execution_count": 29
    }
   ],
   "source": [
    "x = [1,4,5,6,7,9,1,4]       #One dimensional array\n",
    "x"
   ]
  },
  {
   "cell_type": "code",
   "execution_count": 25,
   "metadata": {},
   "outputs": [],
   "source": [
    "d = np.array(x)             #Convert array into np array"
   ]
  },
  {
   "cell_type": "code",
   "execution_count": 26,
   "metadata": {},
   "outputs": [
    {
     "output_type": "execute_result",
     "data": {
      "text/plain": [
       "[array([1, 4]), array([5, 6, 7]), array([9, 1, 4])]"
      ]
     },
     "metadata": {},
     "execution_count": 26
    }
   ],
   "source": [
    "np.split(d, [2,5])          #Split np array rowwise (One dimentional)"
   ]
  },
  {
   "cell_type": "code",
   "execution_count": 31,
   "metadata": {},
   "outputs": [
    {
     "output_type": "execute_result",
     "data": {
      "text/plain": [
       "[[1, 4, 5, 6, 7, 9, 1, 4], [11, 14, 15, 16, 17, 19, 11, 14]]"
      ]
     },
     "metadata": {},
     "execution_count": 31
    }
   ],
   "source": [
    "y = [[1,4,5,6,7,9,1,4], [11,14,15,16,17,19,11,14]] #Two dimensional array\n",
    "y"
   ]
  },
  {
   "cell_type": "code",
   "execution_count": 32,
   "metadata": {},
   "outputs": [],
   "source": [
    "d = np.array(y)             #Convert array into np array"
   ]
  },
  {
   "cell_type": "code",
   "execution_count": 35,
   "metadata": {},
   "outputs": [
    {
     "output_type": "execute_result",
     "data": {
      "text/plain": [
       "[array([[ 1,  4,  5,  6],\n",
       "        [11, 14, 15, 16]]),\n",
       " array([[ 7,  9],\n",
       "        [17, 19]]),\n",
       " array([[ 1,  4],\n",
       "        [11, 14]])]"
      ]
     },
     "metadata": {},
     "execution_count": 35
    }
   ],
   "source": [
    "np.split(d, [4,6], axis=1)  #Split np array by columewise (two dimentional)"
   ]
  },
  {
   "cell_type": "code",
   "execution_count": 36,
   "metadata": {},
   "outputs": [
    {
     "output_type": "execute_result",
     "data": {
      "text/plain": [
       "[array([[1, 4, 5, 6, 7, 9, 1, 4]]), array([[11, 14, 15, 16, 17, 19, 11, 14]])]"
      ]
     },
     "metadata": {},
     "execution_count": 36
    }
   ],
   "source": [
    "np.split(d, [1], axis=0)"
   ]
  }
 ]
}